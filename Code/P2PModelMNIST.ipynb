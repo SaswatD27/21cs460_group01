{
  "nbformat": 4,
  "nbformat_minor": 0,
  "metadata": {
    "colab": {
      "name": "P2PModelMNIST.ipynb",
      "provenance": [],
      "collapsed_sections": [],
      "include_colab_link": true
    },
    "kernelspec": {
      "name": "python3",
      "display_name": "Python 3"
    },
    "language_info": {
      "name": "python"
    }
  },
  "cells": [
    {
      "cell_type": "markdown",
      "metadata": {
        "id": "view-in-github",
        "colab_type": "text"
      },
      "source": [
        "<a href=\"https://colab.research.google.com/github/SaswatD27/21cs460_group01/blob/main/Code/P2PModelMNIST.ipynb\" target=\"_parent\"><img src=\"https://colab.research.google.com/assets/colab-badge.svg\" alt=\"Open In Colab\"/></a>"
      ]
    },
    {
      "cell_type": "markdown",
      "metadata": {
        "id": "w0G_bC8_tfb_"
      },
      "source": [
        "\n",
        "\n",
        "## Bootstrapping"
      ]
    },
    {
      "cell_type": "code",
      "metadata": {
        "id": "i_cGo_SSDYEJ"
      },
      "source": [
        "import random\n",
        "import math\n",
        "import time\n",
        "import numpy as np\n",
        "import os\n",
        "import tensorflow as tf\n",
        "from tensorflow.keras import datasets, layers, models\n",
        "import matplotlib.pyplot as plt\n",
        "from tensorflow.keras.callbacks import EarlyStopping\n",
        "from tensorflow import keras\n",
        "from copy import deepcopy\n",
        "from statistics import mean\n"
      ],
      "execution_count": null,
      "outputs": []
    },
    {
      "cell_type": "markdown",
      "metadata": {
        "id": "4Qu-2ZHGtlRU"
      },
      "source": [
        "## Loading MNIST"
      ]
    },
    {
      "cell_type": "code",
      "metadata": {
        "id": "UFpbNcCx9bSU",
        "colab": {
          "base_uri": "https://localhost:8080/"
        },
        "outputId": "111b3cbc-ee74-453d-9351-528aeed99435"
      },
      "source": [
        "#(train_images, train_labels), (test_images, test_labels) = datasets.cifar10.load_data()\n",
        "(train_images, train_labels), (test_images, test_labels) = tf.keras.datasets.mnist.load_data()\n",
        "#emnist_train, emnist_test = datasets.emnist.load_data()\n",
        "# Normalize pixel values to be between 0 and 1\n",
        "train_images, test_images = train_images / 255.0, test_images / 255.0\n",
        "img_rows, img_cols = 28, 28"
      ],
      "execution_count": null,
      "outputs": [
        {
          "output_type": "stream",
          "name": "stdout",
          "text": [
            "Downloading data from https://storage.googleapis.com/tensorflow/tf-keras-datasets/mnist.npz\n",
            "11493376/11490434 [==============================] - 0s 0us/step\n",
            "11501568/11490434 [==============================] - 0s 0us/step\n"
          ]
        }
      ]
    },
    {
      "cell_type": "markdown",
      "metadata": {
        "id": "y_jq80Nntz1O"
      },
      "source": [
        "### Partitioning MNIST (indices) for clients"
      ]
    },
    {
      "cell_type": "code",
      "metadata": {
        "id": "ObPH7KU8AFSg"
      },
      "source": [
        "K=100\n",
        "n_k_dev= np.random.randint(100,600,K)\n",
        "n_tot=sum(n_k_dev)\n",
        "client_images=deepcopy(list(range(len(train_images))))\n",
        "random.shuffle(client_images)\n",
        "x_train=[]\n",
        "y_train=[]\n",
        "\n",
        "indices_dev=[]\n",
        "for i in range(K):\n",
        "  indices_dev.append([])\n",
        "  for j in range(n_k_dev[i]):\n",
        "    k=client_images.pop()\n",
        "    indices_dev[i].append(k)\n",
        "\n",
        "def no_of_pts(id):\n",
        "    return n_k_dev[id]"
      ],
      "execution_count": null,
      "outputs": []
    },
    {
      "cell_type": "markdown",
      "metadata": {
        "id": "4_mMGPYmtxB9"
      },
      "source": [
        "## Defining DNN"
      ]
    },
    {
      "cell_type": "code",
      "metadata": {
        "id": "CnfYdOaF9nWE"
      },
      "source": [
        "\n",
        "def create_DNN():\n",
        "  model = tf.keras.models.Sequential()\n",
        "  model.add(tf.keras.layers.Flatten(input_shape=(28, 28)))\n",
        "  model.add(tf.keras.layers.BatchNormalization())\n",
        "  model.add(tf.keras.layers.Dense(units=32, activation='relu'))\n",
        "  #model.add(tf.keras.layers.Dropout(rate=0.2))\n",
        "  #model.add(tf.keras.layers.BatchNormalization())\n",
        "  #model.add(tf.keras.layers.Dense(units=512, activation='relu'))\n",
        "  model.add(tf.keras.layers.BatchNormalization())\n",
        "  model.add(tf.keras.layers.Dense(units=10, activation='softmax')) \n",
        "  #model.add(tf.keras.layers.BatchNormalization())\n",
        "  return model"
      ],
      "execution_count": null,
      "outputs": []
    },
    {
      "cell_type": "code",
      "metadata": {
        "id": "NrFYp4wmlKAC"
      },
      "source": [
        "server_model=create_DNN()"
      ],
      "execution_count": null,
      "outputs": []
    },
    {
      "cell_type": "markdown",
      "metadata": {
        "id": "MxEhoS9kt7n4"
      },
      "source": [
        "## Clients Setup"
      ]
    },
    {
      "cell_type": "markdown",
      "metadata": {
        "id": "SoOov3l-u2Zq"
      },
      "source": [
        "### Training The model"
      ]
    },
    {
      "cell_type": "code",
      "metadata": {
        "id": "6XwjNE0-DeSl"
      },
      "source": [
        "def device_local_learning(ini_model,id): #Conducts local training for SGD and outputs weight vector\n",
        "    model=ini_model\n",
        "    model.compile(optimizer='adam',\n",
        "                  loss=\"sparse_categorical_crossentropy\",\n",
        "                  metrics=['accuracy'])\n",
        "    history = model.fit(train_images[indices_dev[id]],train_labels[indices_dev[id]], epochs=20, validation_data=(test_images, test_labels), verbose=0)\n",
        "    #print(id,\" done.\")\n",
        "    save_weight(model, n_k_dev[id], id)"
      ],
      "execution_count": null,
      "outputs": []
    },
    {
      "cell_type": "code",
      "metadata": {
        "id": "UymAkdYQxG-r"
      },
      "source": [
        "#Save Weights locally to used by the device\n",
        "def save_weight(w,n_k,id):\n",
        "    n_k_devices[id]=n_k\n",
        "    fl = str(id)\n",
        "    w.save_weights(fl + \"_wn\")"
      ],
      "execution_count": null,
      "outputs": []
    },
    {
      "cell_type": "markdown",
      "metadata": {
        "id": "zdmSO7NTvCo7"
      },
      "source": [
        "### Communication and Aggregation"
      ]
    },
    {
      "cell_type": "code",
      "metadata": {
        "id": "Aj-G62xM9M-W"
      },
      "source": [
        "#Averaging for modified federated Average for DNN\n",
        "def avg_weights(client_frac,client_models,n_clients_round):\n",
        "  client_models=np.array(client_models)\n",
        "  res=client_frac[0]*np.array(client_models[0].get_weights())\n",
        "  #print(res)\n",
        "  for i in range(1,n_clients_round):\n",
        "    res+=client_frac[i]*np.array(client_models[i].get_weights())\n",
        "  return res"
      ],
      "execution_count": null,
      "outputs": []
    },
    {
      "cell_type": "code",
      "metadata": {
        "id": "FmnaW0m2m7N9"
      },
      "source": [
        "#FED_AVG_DNN :\n",
        "def fed_avg_DNN(client_models, client_n):\n",
        "  fin_model=create_DNN()\n",
        "  fin_model.set_weights(0*np.array(fin_model.get_weights()))\n",
        "  client_frac=np.zeros(len(client_n))\n",
        "  for i in range(len(client_n)):\n",
        "    client_frac[i]=(client_n[i])*(1/np.sum(client_n))\n",
        "  #Set new weights as the fedrated average weight\n",
        "  fin_model.set_weights(avg_weights(client_frac,client_models,len(client_frac)))\n",
        "  return fin_model"
      ],
      "execution_count": null,
      "outputs": []
    },
    {
      "cell_type": "code",
      "metadata": {
        "id": "ALNhJSfY06pV"
      },
      "source": [
        "#Request Other device for their weights\n",
        "def request_dat(initiate):\n",
        "    w_n=create_DNN()\n",
        "    fl = str(initiate)\n",
        "    w_n.load_weights(fl + \"_wn\").expect_partial()\n",
        "    n_k_new= n_k_devices[initiate]\n",
        "    return w_n,n_k_new"
      ],
      "execution_count": null,
      "outputs": []
    },
    {
      "cell_type": "code",
      "metadata": {
        "id": "HuAdo1rR3wye"
      },
      "source": [
        "# Initiate communication and does the aggregation\n",
        "def communicate(w_o, training_subset,n_k):\n",
        "    #Take a random subset of the training subset and call them \n",
        "    comm_len= np.random.randint(1,max(len(training_subset),2))\n",
        "    call_to = np.random.choice(training_subset,comm_len)\n",
        "    print(\"Calling to\",call_to)\n",
        "\n",
        "    w_=[]\n",
        "    n_=[]\n",
        "    w_.append(w_o)\n",
        "    n_.append(n_k)\n",
        "    for i in call_to:\n",
        "        w_w,n_w=request_dat(i)\n",
        "        w_.append(w_w)\n",
        "        n_.append(n_w)\n",
        "    w_new=fed_avg_DNN(w_,n_)\n",
        "    w_o.compile(optimizer='adam',loss=\"sparse_categorical_crossentropy\",metrics=['accuracy'])\n",
        "    w_new.compile(optimizer='adam',loss=\"sparse_categorical_crossentropy\",metrics=['accuracy'])\n",
        "    w_new.save_weights(\"w_new\")\n",
        "    err_o=1-w_o.evaluate(test_images,  test_labels, verbose=2)[1]\n",
        "    err_1=1-w_new.evaluate(test_images,  test_labels, verbose=2)[1]\n",
        "    #Compares old and new weights to decide which one performs better\n",
        "    if err_1<err_o:\n",
        "        return w_new\n",
        "    else:\n",
        "        return w_o"
      ],
      "execution_count": null,
      "outputs": []
    },
    {
      "cell_type": "code",
      "metadata": {
        "id": "55YxFl-Q3lPB"
      },
      "source": [
        "#Initiate P2P learn by making a training subset which does not include the device which is calling\n",
        "def p2p_learn(initiate,training_subset):\n",
        "    w_n,n_k_new=request_dat(initiate)\n",
        "    training_subset_c=training_subset.copy()\n",
        "    training_subset_c=training_subset_c.tolist()\n",
        "    training_subset_c.remove(initiate)\n",
        "    w_new=communicate(w_n,training_subset_c,n_k_new)\n",
        "    return w_new"
      ],
      "execution_count": null,
      "outputs": []
    },
    {
      "cell_type": "code",
      "metadata": {
        "id": "yQoYjuuuUKlN"
      },
      "source": [
        "def P2P_new_fed1(K, C, server_model):\n",
        "    # Training Subset is subset of all available devices\n",
        "    training_subset = np.random.choice(all_device, int(C * K), replace=False)\n",
        "    print(\"Training Subset\",training_subset)\n",
        "\n",
        "    # Initiate a random model\n",
        "    ini_model=create_DNN()\n",
        "    try:\n",
        "        ini_model.load_weights(\"w_new\")\n",
        "    except:\n",
        "        ini_model=server_model\n",
        "\n",
        "    #Send the model to all the devices in the training subset\n",
        "    for j in training_subset:\n",
        "        device_local_learning(ini_model,j)\n",
        "    print(\"Initial Model sent.\")\n",
        "\n",
        "    w_new=[]\n",
        "    acc=[]\n",
        "    #Train all the models in the training subset using P2P \n",
        "    for i in training_subset:\n",
        "        w_new.append(p2p_learn(i,training_subset))\n",
        "\n",
        "    #Testing the new models    \n",
        "    for w in w_new:\n",
        "      acc.append(w.evaluate(test_images,  test_labels, verbose=0)[1])\n",
        "    print(\"Accuracies for new models via P2P are\",acc,\"\\n Max Accuracy = \",max(acc),\"\\n Min Accuracy = \",min(acc),\"\\n Mean Accuracy = \",np.mean(acc))\n",
        "    ind_acc=[i for i in range(len(acc))]\n",
        "    plt.scatter(ind_acc,acc)\n",
        "    plt.xlabel('Clients in Training Sample')\n",
        "    plt.ylabel('Accuracy')\n",
        "    plt.title('P2P Model : Accuracy of Individual Clients')\n",
        "    plt.show()\n",
        "    ini_model.load_weights(\"w_new\")\n",
        "    print(ini_model.evaluate(test_images,  test_labels, verbose=0)[1])"
      ],
      "execution_count": null,
      "outputs": []
    },
    {
      "cell_type": "code",
      "metadata": {
        "id": "Q3-mPl721Hi5",
        "colab": {
          "base_uri": "https://localhost:8080/",
          "height": 1000
        },
        "outputId": "0ff1f5f0-2320-46c0-d5e5-5475680d4fc2"
      },
      "source": [
        "#To run another subsequent round, simply hit run again; prior weights, if any, are saved.\n",
        "K = 100\n",
        "C = 0.25\n",
        "B= int(K * C)\n",
        "n = 20\n",
        "\n",
        "n_k_devices=np.zeros(K)\n",
        "all_device=np.arange(K)\n",
        "\n",
        "\n",
        "time1 = time.time()\n",
        "P2P_new_fed1(K, C, server_model)\n",
        "time2 = time.time()\n",
        "print(\"Time taken for P2P federated learning\", time2 - time1)\n",
        "print(n_k_devices)\n"
      ],
      "execution_count": null,
      "outputs": [
        {
          "output_type": "stream",
          "name": "stdout",
          "text": [
            "[48 46  1 89  9 42  0 55 45 51 17  7 12 57 61 67 78 79 63 24 49 97 99 16\n",
            " 60]\n",
            "Initial Model sent.\n",
            "Calling to [60 60 55 79 89 61 42 57 97 24 57 61 17]\n"
          ]
        },
        {
          "output_type": "stream",
          "name": "stderr",
          "text": [
            "/usr/local/lib/python3.7/dist-packages/ipykernel_launcher.py:4: VisibleDeprecationWarning: Creating an ndarray from ragged nested sequences (which is a list-or-tuple of lists-or-tuples-or ndarrays with different lengths or shapes) is deprecated. If you meant to do this, you must specify 'dtype=object' when creating the ndarray\n",
            "  after removing the cwd from sys.path.\n",
            "/usr/local/lib/python3.7/dist-packages/ipykernel_launcher.py:7: VisibleDeprecationWarning: Creating an ndarray from ragged nested sequences (which is a list-or-tuple of lists-or-tuples-or ndarrays with different lengths or shapes) is deprecated. If you meant to do this, you must specify 'dtype=object' when creating the ndarray\n",
            "  import sys\n"
          ]
        },
        {
          "output_type": "stream",
          "name": "stdout",
          "text": [
            "313/313 - 1s - loss: 0.9833 - accuracy: 0.7673 - 653ms/epoch - 2ms/step\n",
            "313/313 - 1s - loss: 0.2513 - accuracy: 0.9274 - 655ms/epoch - 2ms/step\n",
            "Calling to [79 55 78 48 51  7 48  0 99 24 78 89  7]\n",
            "313/313 - 1s - loss: 0.4900 - accuracy: 0.8509 - 628ms/epoch - 2ms/step\n",
            "313/313 - 1s - loss: 0.2668 - accuracy: 0.9204 - 614ms/epoch - 2ms/step\n",
            "Calling to [42 60 99]\n",
            "313/313 - 1s - loss: 0.5010 - accuracy: 0.8562 - 598ms/epoch - 2ms/step\n",
            "313/313 - 1s - loss: 0.3157 - accuracy: 0.9115 - 621ms/epoch - 2ms/step\n",
            "Calling to [ 9 17 99 42 51 79 60 24 97  9 60]\n",
            "313/313 - 1s - loss: 0.5445 - accuracy: 0.8537 - 629ms/epoch - 2ms/step\n",
            "313/313 - 1s - loss: 0.2957 - accuracy: 0.9200 - 634ms/epoch - 2ms/step\n",
            "Calling to [46 49  7 97]\n",
            "313/313 - 1s - loss: 0.5700 - accuracy: 0.8547 - 627ms/epoch - 2ms/step\n",
            "313/313 - 1s - loss: 0.2929 - accuracy: 0.9128 - 607ms/epoch - 2ms/step\n",
            "Calling to [55 46 12 12 78  9  0 60 78 67 89 12 16 63 17  9 48 67  1 16]\n",
            "313/313 - 1s - loss: 0.5067 - accuracy: 0.8721 - 642ms/epoch - 2ms/step\n",
            "313/313 - 1s - loss: 0.2759 - accuracy: 0.9199 - 608ms/epoch - 2ms/step\n",
            "Calling to [12 63 24 48 42  9 57 79 49 67 61 46 63 12 51  7 55 45  7 63  7 16 12]\n",
            "313/313 - 1s - loss: 0.5104 - accuracy: 0.8740 - 638ms/epoch - 2ms/step\n",
            "313/313 - 1s - loss: 0.2694 - accuracy: 0.9232 - 629ms/epoch - 2ms/step\n",
            "Calling to [ 9 42 78 60  0 42 61]\n",
            "313/313 - 1s - loss: 0.4593 - accuracy: 0.8851 - 593ms/epoch - 2ms/step\n",
            "313/313 - 1s - loss: 0.3248 - accuracy: 0.9116 - 629ms/epoch - 2ms/step\n",
            "Calling to [97 67 97 42 17]\n",
            "313/313 - 1s - loss: 0.5024 - accuracy: 0.8782 - 597ms/epoch - 2ms/step\n",
            "313/313 - 1s - loss: 0.3084 - accuracy: 0.9176 - 627ms/epoch - 2ms/step\n",
            "Calling to [97 61 24 42  7  1 97 16 79 24 99 49 57 49 55 17  0]\n",
            "313/313 - 1s - loss: 0.5133 - accuracy: 0.8777 - 624ms/epoch - 2ms/step\n",
            "313/313 - 1s - loss: 0.2909 - accuracy: 0.9195 - 637ms/epoch - 2ms/step\n",
            "Calling to [61 79  9 55 24 51 51 78 99 16 89 16  9]\n",
            "313/313 - 1s - loss: 0.5244 - accuracy: 0.8759 - 630ms/epoch - 2ms/step\n",
            "313/313 - 1s - loss: 0.3005 - accuracy: 0.9192 - 632ms/epoch - 2ms/step\n",
            "Calling to [61 42 57 89  0  0  1 48 12 42 16 16]\n",
            "313/313 - 1s - loss: 0.5110 - accuracy: 0.8767 - 613ms/epoch - 2ms/step\n",
            "313/313 - 1s - loss: 0.2850 - accuracy: 0.9167 - 615ms/epoch - 2ms/step\n",
            "Calling to [97 17 97  7 97 63 60 57 99 97]\n",
            "313/313 - 1s - loss: 0.4786 - accuracy: 0.8801 - 644ms/epoch - 2ms/step\n",
            "313/313 - 1s - loss: 0.3104 - accuracy: 0.9194 - 605ms/epoch - 2ms/step\n",
            "Calling to [63 67 16 78 63 60 51 55 63 63 45 60  1 49 24 45]\n",
            "313/313 - 1s - loss: 0.4816 - accuracy: 0.8820 - 625ms/epoch - 2ms/step\n",
            "313/313 - 1s - loss: 0.2994 - accuracy: 0.9194 - 644ms/epoch - 2ms/step\n",
            "Calling to [63 79 46 51 45 57 24 16  0 24 24 99 97 48 99  0 16 17 45 57 60 67]\n",
            "313/313 - 1s - loss: 0.4019 - accuracy: 0.8939 - 589ms/epoch - 2ms/step\n",
            "313/313 - 1s - loss: 0.2547 - accuracy: 0.9261 - 604ms/epoch - 2ms/step\n",
            "Calling to [12 45]\n",
            "313/313 - 1s - loss: 0.4334 - accuracy: 0.8898 - 621ms/epoch - 2ms/step\n",
            "313/313 - 1s - loss: 0.3911 - accuracy: 0.8989 - 630ms/epoch - 2ms/step\n",
            "Calling to [ 1 46 55  9 67 89 48 17 57 16 79 61 46  7 46 67 79 16]\n",
            "313/313 - 1s - loss: 0.4597 - accuracy: 0.8817 - 641ms/epoch - 2ms/step\n",
            "313/313 - 1s - loss: 0.2774 - accuracy: 0.9180 - 645ms/epoch - 2ms/step\n",
            "Calling to [24 49  1 46  1 16 12  0 49 89 63 99 97 24 12 51 12  9 45]\n",
            "313/313 - 1s - loss: 0.3987 - accuracy: 0.9000 - 644ms/epoch - 2ms/step\n",
            "313/313 - 1s - loss: 0.2930 - accuracy: 0.9164 - 645ms/epoch - 2ms/step\n",
            "Calling to [12 99 57 67 97 99 67 49 67]\n",
            "313/313 - 1s - loss: 0.4121 - accuracy: 0.8988 - 632ms/epoch - 2ms/step\n",
            "313/313 - 1s - loss: 0.3047 - accuracy: 0.9193 - 680ms/epoch - 2ms/step\n",
            "Calling to [79 51 48 49 49 57 55 99  0  1 49 49  7]\n",
            "313/313 - 1s - loss: 0.4867 - accuracy: 0.8786 - 640ms/epoch - 2ms/step\n",
            "313/313 - 1s - loss: 0.2575 - accuracy: 0.9248 - 660ms/epoch - 2ms/step\n",
            "Calling to [57 97 45 97 61 12 55 79 12  9 46]\n",
            "313/313 - 1s - loss: 0.4347 - accuracy: 0.8928 - 642ms/epoch - 2ms/step\n",
            "313/313 - 1s - loss: 0.2896 - accuracy: 0.9174 - 677ms/epoch - 2ms/step\n",
            "Calling to [12  0 24 79 78  0 17 45 16  1 48 12 12]\n",
            "313/313 - 1s - loss: 0.4018 - accuracy: 0.9005 - 642ms/epoch - 2ms/step\n",
            "313/313 - 1s - loss: 0.2723 - accuracy: 0.9225 - 633ms/epoch - 2ms/step\n",
            "Calling to [78 17 61  9]\n",
            "313/313 - 1s - loss: 0.4616 - accuracy: 0.8887 - 621ms/epoch - 2ms/step\n",
            "313/313 - 1s - loss: 0.3118 - accuracy: 0.9165 - 601ms/epoch - 2ms/step\n",
            "Calling to [97 99 49 24 63 79 48 45 67  1 63 48 79]\n",
            "313/313 - 1s - loss: 0.4814 - accuracy: 0.8862 - 616ms/epoch - 2ms/step\n",
            "313/313 - 1s - loss: 0.2505 - accuracy: 0.9249 - 611ms/epoch - 2ms/step\n",
            "Calling to [63 79 24 46 55  9 63 49 57 16 16 97 45  7 79 45  9 55 17 78  1 24]\n",
            "313/313 - 1s - loss: 0.4223 - accuracy: 0.8953 - 644ms/epoch - 2ms/step\n",
            "313/313 - 1s - loss: 0.2852 - accuracy: 0.9206 - 632ms/epoch - 2ms/step\n",
            "Accuracies for new models via P2P are [0.9273999929428101, 0.9204000234603882, 0.9114999771118164, 0.9200000166893005, 0.9128000140190125, 0.9199000000953674, 0.9232000112533569, 0.9115999937057495, 0.9175999760627747, 0.9194999933242798, 0.9192000031471252, 0.916700005531311, 0.9193999767303467, 0.9193999767303467, 0.9261000156402588, 0.8988999724388123, 0.9179999828338623, 0.9164000153541565, 0.9193000197410583, 0.9247999787330627, 0.9174000024795532, 0.9225000143051147, 0.9164999723434448, 0.9248999953269958, 0.9205999970436096] \n",
            " Max Accuracy =  0.9273999929428101 \n",
            " Min Accuracy =  0.8988999724388123 \n",
            " Mean Accuracy =  0.9185599970817566\n"
          ]
        },
        {
          "output_type": "display_data",
          "data": {
            "image/png": "[encoded data removed]",
            "text/plain": [
              "<Figure size 432x288 with 1 Axes>"
            ]
          },
          "metadata": {
            "needs_background": "light"
          }
        },
        {
          "output_type": "stream",
          "name": "stdout",
          "text": [
            "0.9205999970436096\n",
            "Time taken for P2P federated learning 511.39870023727417\n",
            "[367. 552.   0.   0.   0.   0.   0. 157.   0. 284.   0.   0. 451.   0.\n",
            "   0.   0. 203. 144.   0.   0.   0.   0.   0.   0. 265.   0.   0.   0.\n",
            "   0.   0.   0.   0.   0.   0.   0.   0.   0.   0.   0.   0.   0.   0.\n",
            " 435.   0.   0. 157. 546.   0. 222. 269.   0. 191.   0.   0.   0. 406.\n",
            "   0. 100.   0.   0. 273. 380.   0. 416.   0.   0.   0. 113.   0.   0.\n",
            "   0.   0.   0.   0.   0.   0.   0.   0. 267. 543.   0.   0.   0.   0.\n",
            "   0.   0.   0.   0.   0. 418.   0.   0.   0.   0.   0.   0.   0. 337.\n",
            "   0. 202.]\n"
          ]
        }
      ]
    },
    {
      "cell_type": "code",
      "metadata": {
        "id": "PaSa-IfM32kb",
        "colab": {
          "base_uri": "https://localhost:8080/",
          "height": 296
        },
        "outputId": "7dea77c2-5282-4da3-a602-6982fad19ea7"
      },
      "source": [
        "#Plot Accuracy for multiple runs\n",
        "max_acc=[93.83999705314636,94.30999755859375,94.8199987411499,94.9999988079071,94.98000144958496,95.09000182151794,95.13999819755554]\n",
        "min_acc=[92.66999959945679,92.76999831199646,93.97000074386597,93.80000233650208,94.37999725341797,94.24999952316284,93.80000233650208]\n",
        "mean_acc=[93.49119901657105,94.02160000801086,94.4760000705719,94.62239980697632,94.7564001083374,94.24999952316284,94.90360021591187]\n",
        "global_acc=[93.79000067710876,94.24999952316284,94.74999904632568,94.70999836921692,94.87000107765198,94.85240006446838,94.91999745368958]\n",
        "x_cords_plt=range(1,8)\n",
        "plt.plot(x_cords_plt,max_acc, label='Max Cluster Acc')\n",
        "plt.plot(x_cords_plt,global_acc, label='Shared Global Model Acc')\n",
        "plt.plot(x_cords_plt,mean_acc, label='Mean Cluster Acc')\n",
        "plt.plot(x_cords_plt,min_acc, label='Min Cluster Acc')\n",
        "plt.xlabel('Epoch')\n",
        "plt.ylabel('Accuracy')\n",
        "plt.legend(loc='lower right')"
      ],
      "execution_count": null,
      "outputs": [
        {
          "output_type": "execute_result",
          "data": {
            "text/plain": [
              "<matplotlib.legend.Legend at 0x7f2a0c56c810>"
            ]
          },
          "metadata": {},
          "execution_count": 17
        },
        {
          "output_type": "display_data",
          "data": {
            "image/png": "[encoded data removed]",
            "text/plain": [
              "<Figure size 432x288 with 1 Axes>"
            ]
          },
          "metadata": {
            "needs_background": "light"
          }
        }
      ]
    }
  ]
}